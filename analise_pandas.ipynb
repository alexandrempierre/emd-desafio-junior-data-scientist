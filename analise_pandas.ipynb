{
 "cells": [
  {
   "cell_type": "code",
   "execution_count": 2,
   "metadata": {},
   "outputs": [],
   "source": [
    "import pandas as pd\n",
    "#\n",
    "from datetime import date\n",
    "#\n",
    "import dados"
   ]
  },
  {
   "cell_type": "markdown",
   "metadata": {},
   "source": [
    "# Tabela de Chamados 1746\n",
    "\n",
    "Por ser uma tabela grande e por estar particionada, e tendo verificado que toda informação sobre um intervalo de datas está na partição correspondente, baixei apenas e na totalidade os dados de chamados necessários para responder às 10 perguntas."
   ]
  },
  {
   "cell_type": "code",
   "execution_count": 3,
   "metadata": {},
   "outputs": [
    {
     "name": "stderr",
     "output_type": "stream",
     "text": [
      "Downloading: 100%|██████████| 1617598/1617598 [00:09<00:00, 166842.01rows/s]\n"
     ]
    },
    {
     "data": {
      "text/html": [
       "<div>\n",
       "<style scoped>\n",
       "    .dataframe tbody tr th:only-of-type {\n",
       "        vertical-align: middle;\n",
       "    }\n",
       "\n",
       "    .dataframe tbody tr th {\n",
       "        vertical-align: top;\n",
       "    }\n",
       "\n",
       "    .dataframe thead th {\n",
       "        text-align: right;\n",
       "    }\n",
       "</style>\n",
       "<table border=\"1\" class=\"dataframe\">\n",
       "  <thead>\n",
       "    <tr style=\"text-align: right;\">\n",
       "      <th></th>\n",
       "      <th>id_chamado</th>\n",
       "      <th>data_inicio</th>\n",
       "      <th>id_bairro</th>\n",
       "      <th>id_tipo</th>\n",
       "      <th>tipo</th>\n",
       "      <th>id_subtipo</th>\n",
       "      <th>subtipo</th>\n",
       "    </tr>\n",
       "  </thead>\n",
       "  <tbody>\n",
       "    <tr>\n",
       "      <th>0</th>\n",
       "      <td>17183982</td>\n",
       "      <td>2022-04-27 22:16:26</td>\n",
       "      <td>45</td>\n",
       "      <td>1</td>\n",
       "      <td>Iluminação Pública</td>\n",
       "      <td>6</td>\n",
       "      <td>Reparo de lâmpada apagada</td>\n",
       "    </tr>\n",
       "    <tr>\n",
       "      <th>1</th>\n",
       "      <td>17147943</td>\n",
       "      <td>2022-04-18 20:29:29</td>\n",
       "      <td>45</td>\n",
       "      <td>1</td>\n",
       "      <td>Iluminação Pública</td>\n",
       "      <td>6</td>\n",
       "      <td>Reparo de lâmpada apagada</td>\n",
       "    </tr>\n",
       "    <tr>\n",
       "      <th>2</th>\n",
       "      <td>17150108</td>\n",
       "      <td>2022-04-19 11:55:04</td>\n",
       "      <td>114</td>\n",
       "      <td>1</td>\n",
       "      <td>Iluminação Pública</td>\n",
       "      <td>6</td>\n",
       "      <td>Reparo de lâmpada apagada</td>\n",
       "    </tr>\n",
       "    <tr>\n",
       "      <th>3</th>\n",
       "      <td>17184476</td>\n",
       "      <td>2022-04-28 08:21:02</td>\n",
       "      <td>148</td>\n",
       "      <td>1</td>\n",
       "      <td>Iluminação Pública</td>\n",
       "      <td>6</td>\n",
       "      <td>Reparo de lâmpada apagada</td>\n",
       "    </tr>\n",
       "    <tr>\n",
       "      <th>4</th>\n",
       "      <td>17182491</td>\n",
       "      <td>2022-04-27 16:26:03</td>\n",
       "      <td>149</td>\n",
       "      <td>1</td>\n",
       "      <td>Iluminação Pública</td>\n",
       "      <td>6</td>\n",
       "      <td>Reparo de lâmpada apagada</td>\n",
       "    </tr>\n",
       "  </tbody>\n",
       "</table>\n",
       "</div>"
      ],
      "text/plain": [
       "  id_chamado         data_inicio id_bairro id_tipo                tipo  \\\n",
       "0   17183982 2022-04-27 22:16:26        45       1  Iluminação Pública   \n",
       "1   17147943 2022-04-18 20:29:29        45       1  Iluminação Pública   \n",
       "2   17150108 2022-04-19 11:55:04       114       1  Iluminação Pública   \n",
       "3   17184476 2022-04-28 08:21:02       148       1  Iluminação Pública   \n",
       "4   17182491 2022-04-27 16:26:03       149       1  Iluminação Pública   \n",
       "\n",
       "  id_subtipo                    subtipo  \n",
       "0          6  Reparo de lâmpada apagada  \n",
       "1          6  Reparo de lâmpada apagada  \n",
       "2          6  Reparo de lâmpada apagada  \n",
       "3          6  Reparo de lâmpada apagada  \n",
       "4          6  Reparo de lâmpada apagada  "
      ]
     },
     "execution_count": 3,
     "metadata": {},
     "output_type": "execute_result"
    }
   ],
   "source": [
    "df_chamado_1746 = dados.chamado_1746()\n",
    "df_chamado_1746.head()"
   ]
  },
  {
   "cell_type": "markdown",
   "metadata": {},
   "source": [
    "1. Quantos chamados foram abertos no dia 01/04/2023?\n",
    "\n",
    "Resposta: No dia 01/04/2023 foram abertos 73 chamados."
   ]
  },
  {
   "cell_type": "code",
   "execution_count": 4,
   "metadata": {},
   "outputs": [
    {
     "data": {
      "text/plain": [
       "id_chamado    73\n",
       "dtype: int64"
      ]
     },
     "execution_count": 4,
     "metadata": {},
     "output_type": "execute_result"
    }
   ],
   "source": [
    "# 1\n",
    "df_chamado_1o_de_abril = df_chamado_1746[\n",
    "    df_chamado_1746['data_inicio'].apply(\n",
    "        lambda dt: dt.date()\n",
    "    ) == date(year=2023, month=4, day=1)\n",
    "]\n",
    "df_chamado_1o_de_abril.count().head(1)"
   ]
  },
  {
   "cell_type": "markdown",
   "metadata": {},
   "source": [
    "2. Qual o tipo de chamado que teve mais reclamações no dia 01/04/2023?\n",
    "\n",
    "Resposta: No dia 01/04/2023 o tipo de chamado que teve mais reclamações foi Poluição Sonora com 24 chamados."
   ]
  },
  {
   "cell_type": "code",
   "execution_count": 5,
   "metadata": {},
   "outputs": [
    {
     "data": {
      "text/plain": [
       "tipo\n",
       "Poluição sonora    24\n",
       "Name: tipo, dtype: int64"
      ]
     },
     "execution_count": 5,
     "metadata": {},
     "output_type": "execute_result"
    }
   ],
   "source": [
    "# 2\n",
    "df_chamado_1o_de_abril \\\n",
    "    .groupby(['tipo'])['tipo'] \\\n",
    "    .count() \\\n",
    "    .sort_values(ascending=False) \\\n",
    "    .head(1)"
   ]
  },
  {
   "cell_type": "markdown",
   "metadata": {},
   "source": [
    "# Tabela de bairros\n",
    "\n",
    "Para responder as próximas perguntas foi necessário baixar os dados da tabela de bairros, por ser uma tabela pequena foi possível baixar a tabela inteira."
   ]
  },
  {
   "cell_type": "code",
   "execution_count": 6,
   "metadata": {},
   "outputs": [
    {
     "name": "stderr",
     "output_type": "stream",
     "text": [
      "Downloading: 100%|██████████| 164/164 [00:03<00:00, 49.43rows/s]\n"
     ]
    },
    {
     "data": {
      "text/html": [
       "<div>\n",
       "<style scoped>\n",
       "    .dataframe tbody tr th:only-of-type {\n",
       "        vertical-align: middle;\n",
       "    }\n",
       "\n",
       "    .dataframe tbody tr th {\n",
       "        vertical-align: top;\n",
       "    }\n",
       "\n",
       "    .dataframe thead th {\n",
       "        text-align: right;\n",
       "    }\n",
       "</style>\n",
       "<table border=\"1\" class=\"dataframe\">\n",
       "  <thead>\n",
       "    <tr style=\"text-align: right;\">\n",
       "      <th></th>\n",
       "      <th>id_bairro</th>\n",
       "      <th>nome</th>\n",
       "      <th>id_area_planejamento</th>\n",
       "      <th>id_regiao_planejamento</th>\n",
       "      <th>nome_regiao_planejamento</th>\n",
       "      <th>id_regiao_administrativa</th>\n",
       "      <th>nome_regiao_administrativa</th>\n",
       "      <th>subprefeitura</th>\n",
       "      <th>area</th>\n",
       "      <th>perimetro</th>\n",
       "      <th>geometry_wkt</th>\n",
       "      <th>geometry</th>\n",
       "    </tr>\n",
       "  </thead>\n",
       "  <tbody>\n",
       "    <tr>\n",
       "      <th>0</th>\n",
       "      <td>2</td>\n",
       "      <td>Gamboa</td>\n",
       "      <td>1</td>\n",
       "      <td>1.1</td>\n",
       "      <td>Centro</td>\n",
       "      <td>1</td>\n",
       "      <td>Portuaria</td>\n",
       "      <td>Centro</td>\n",
       "      <td>1.112903e+06</td>\n",
       "      <td>4612.833630</td>\n",
       "      <td>POLYGON ((-43.18791509600138 -22.8931217212322...</td>\n",
       "      <td>POLYGON((-43.1879150960014 -22.8931217212322, ...</td>\n",
       "    </tr>\n",
       "    <tr>\n",
       "      <th>1</th>\n",
       "      <td>1</td>\n",
       "      <td>Saúde</td>\n",
       "      <td>1</td>\n",
       "      <td>1.1</td>\n",
       "      <td>Centro</td>\n",
       "      <td>1</td>\n",
       "      <td>Portuaria</td>\n",
       "      <td>Centro</td>\n",
       "      <td>3.638176e+05</td>\n",
       "      <td>2646.220568</td>\n",
       "      <td>POLYGON ((-43.181151633502964 -22.895430284304...</td>\n",
       "      <td>POLYGON((-43.181151633503 -22.8954302843042, -...</td>\n",
       "    </tr>\n",
       "    <tr>\n",
       "      <th>2</th>\n",
       "      <td>4</td>\n",
       "      <td>Caju</td>\n",
       "      <td>1</td>\n",
       "      <td>1.1</td>\n",
       "      <td>Centro</td>\n",
       "      <td>1</td>\n",
       "      <td>Portuaria</td>\n",
       "      <td>Centro</td>\n",
       "      <td>5.347481e+06</td>\n",
       "      <td>19800.522524</td>\n",
       "      <td>MULTIPOLYGON (((-43.22522241788469 -22.8746498...</td>\n",
       "      <td>MULTIPOLYGON(((-43.196711909178 -22.8872495021...</td>\n",
       "    </tr>\n",
       "    <tr>\n",
       "      <th>3</th>\n",
       "      <td>3</td>\n",
       "      <td>Santo Cristo</td>\n",
       "      <td>1</td>\n",
       "      <td>1.1</td>\n",
       "      <td>Centro</td>\n",
       "      <td>1</td>\n",
       "      <td>Portuaria</td>\n",
       "      <td>Centro</td>\n",
       "      <td>1.684721e+06</td>\n",
       "      <td>6743.227885</td>\n",
       "      <td>POLYGON ((-43.194498082949806 -22.903378003392...</td>\n",
       "      <td>POLYGON((-43.1944980829498 -22.9033780033923, ...</td>\n",
       "    </tr>\n",
       "    <tr>\n",
       "      <th>4</th>\n",
       "      <td>161</td>\n",
       "      <td>Lapa</td>\n",
       "      <td>1</td>\n",
       "      <td>1.1</td>\n",
       "      <td>Centro</td>\n",
       "      <td>2</td>\n",
       "      <td>Centro</td>\n",
       "      <td>Centro</td>\n",
       "      <td>2.983258e+05</td>\n",
       "      <td>3849.181818</td>\n",
       "      <td>POLYGON ((-43.18166120770202 -22.9120798224676...</td>\n",
       "      <td>POLYGON((-43.181661207702 -22.9120798224677, -...</td>\n",
       "    </tr>\n",
       "  </tbody>\n",
       "</table>\n",
       "</div>"
      ],
      "text/plain": [
       "  id_bairro          nome id_area_planejamento id_regiao_planejamento  \\\n",
       "0         2        Gamboa                    1                    1.1   \n",
       "1         1         Saúde                    1                    1.1   \n",
       "2         4          Caju                    1                    1.1   \n",
       "3         3  Santo Cristo                    1                    1.1   \n",
       "4       161          Lapa                    1                    1.1   \n",
       "\n",
       "  nome_regiao_planejamento id_regiao_administrativa  \\\n",
       "0                   Centro                        1   \n",
       "1                   Centro                        1   \n",
       "2                   Centro                        1   \n",
       "3                   Centro                        1   \n",
       "4                   Centro                        2   \n",
       "\n",
       "  nome_regiao_administrativa subprefeitura          area     perimetro  \\\n",
       "0                  Portuaria        Centro  1.112903e+06   4612.833630   \n",
       "1                  Portuaria        Centro  3.638176e+05   2646.220568   \n",
       "2                  Portuaria        Centro  5.347481e+06  19800.522524   \n",
       "3                  Portuaria        Centro  1.684721e+06   6743.227885   \n",
       "4                     Centro        Centro  2.983258e+05   3849.181818   \n",
       "\n",
       "                                        geometry_wkt  \\\n",
       "0  POLYGON ((-43.18791509600138 -22.8931217212322...   \n",
       "1  POLYGON ((-43.181151633502964 -22.895430284304...   \n",
       "2  MULTIPOLYGON (((-43.22522241788469 -22.8746498...   \n",
       "3  POLYGON ((-43.194498082949806 -22.903378003392...   \n",
       "4  POLYGON ((-43.18166120770202 -22.9120798224676...   \n",
       "\n",
       "                                            geometry  \n",
       "0  POLYGON((-43.1879150960014 -22.8931217212322, ...  \n",
       "1  POLYGON((-43.181151633503 -22.8954302843042, -...  \n",
       "2  MULTIPOLYGON(((-43.196711909178 -22.8872495021...  \n",
       "3  POLYGON((-43.1944980829498 -22.9033780033923, ...  \n",
       "4  POLYGON((-43.181661207702 -22.9120798224677, -...  "
      ]
     },
     "execution_count": 6,
     "metadata": {},
     "output_type": "execute_result"
    }
   ],
   "source": [
    "df_bairro = dados.bairro()\n",
    "df_bairro.head()"
   ]
  },
  {
   "cell_type": "markdown",
   "metadata": {},
   "source": [
    "3. Quais os nomes dos 3 bairros que mais tiveram chamados abertos nesse dia?\n",
    "\n",
    "Resposta: Engenho de Dentro (8 chamados), Campo Grande (6 chamados) e Leblon (6 chamados)."
   ]
  },
  {
   "cell_type": "code",
   "execution_count": 7,
   "metadata": {},
   "outputs": [
    {
     "data": {
      "text/plain": [
       "nome\n",
       "Engenho de Dentro    8\n",
       "Campo Grande         6\n",
       "Leblon               6\n",
       "Barra da Tijuca      5\n",
       "Engenho da Rainha    5\n",
       "Name: nome, dtype: int64"
      ]
     },
     "execution_count": 7,
     "metadata": {},
     "output_type": "execute_result"
    }
   ],
   "source": [
    "df_chamado_1o_de_abril \\\n",
    "    .merge(df_bairro, on='id_bairro', how='inner') \\\n",
    "    .groupby(['nome'])['nome'] \\\n",
    "    .count() \\\n",
    "    .sort_values(ascending=False) \\\n",
    "    .head(5)"
   ]
  },
  {
   "cell_type": "markdown",
   "metadata": {},
   "source": [
    "4. Qual o nome da subprefeitura com mais chamados abertos nesse dia?\n",
    "\n",
    "Resposta: Zona Norte (25)"
   ]
  },
  {
   "cell_type": "code",
   "execution_count": 8,
   "metadata": {},
   "outputs": [
    {
     "data": {
      "text/plain": [
       "subprefeitura\n",
       "Zona Norte         25\n",
       "Zona Sul           12\n",
       "Zona Oeste         10\n",
       "Centro              7\n",
       "Barra da Tijuca     6\n",
       "Name: subprefeitura, dtype: int64"
      ]
     },
     "execution_count": 8,
     "metadata": {},
     "output_type": "execute_result"
    }
   ],
   "source": [
    "df_chamado_1o_de_abril \\\n",
    "    .merge(df_bairro, on='id_bairro', how='inner') \\\n",
    "    .groupby(['subprefeitura'])['subprefeitura'] \\\n",
    "    .count() \\\n",
    "    .sort_values(ascending=False) \\\n",
    "    .head(5)"
   ]
  },
  {
   "cell_type": "markdown",
   "metadata": {},
   "source": [
    "5. Existe algum chamado aberto nesse dia que não foi associado a um bairro ou subprefeitura na tabela de bairros? Se sim, por que isso acontece?\n",
    "\n",
    "Resposta: Existe, é uma reclamação sobre ar-condicionado inoperante num ônibus, pela natureza móvel do ônibus faz mais sentido indicar informações como número do veículo, linha e horário do que um local específico."
   ]
  },
  {
   "cell_type": "code",
   "execution_count": 9,
   "metadata": {},
   "outputs": [
    {
     "data": {
      "text/html": [
       "<div>\n",
       "<style scoped>\n",
       "    .dataframe tbody tr th:only-of-type {\n",
       "        vertical-align: middle;\n",
       "    }\n",
       "\n",
       "    .dataframe tbody tr th {\n",
       "        vertical-align: top;\n",
       "    }\n",
       "\n",
       "    .dataframe thead th {\n",
       "        text-align: right;\n",
       "    }\n",
       "</style>\n",
       "<table border=\"1\" class=\"dataframe\">\n",
       "  <thead>\n",
       "    <tr style=\"text-align: right;\">\n",
       "      <th></th>\n",
       "      <th>id_chamado</th>\n",
       "      <th>data_inicio</th>\n",
       "      <th>id_bairro</th>\n",
       "      <th>id_tipo</th>\n",
       "      <th>tipo</th>\n",
       "      <th>id_subtipo</th>\n",
       "      <th>subtipo</th>\n",
       "      <th>nome</th>\n",
       "      <th>id_area_planejamento</th>\n",
       "      <th>id_regiao_planejamento</th>\n",
       "      <th>nome_regiao_planejamento</th>\n",
       "      <th>id_regiao_administrativa</th>\n",
       "      <th>nome_regiao_administrativa</th>\n",
       "      <th>subprefeitura</th>\n",
       "      <th>area</th>\n",
       "      <th>perimetro</th>\n",
       "      <th>geometry_wkt</th>\n",
       "      <th>geometry</th>\n",
       "    </tr>\n",
       "  </thead>\n",
       "  <tbody>\n",
       "    <tr>\n",
       "      <th>0</th>\n",
       "      <td>18516246</td>\n",
       "      <td>2023-04-01 00:55:38</td>\n",
       "      <td>None</td>\n",
       "      <td>93</td>\n",
       "      <td>Ônibus</td>\n",
       "      <td>1242</td>\n",
       "      <td>Verificação de ar condicionado inoperante no ô...</td>\n",
       "      <td>NaN</td>\n",
       "      <td>NaN</td>\n",
       "      <td>NaN</td>\n",
       "      <td>NaN</td>\n",
       "      <td>NaN</td>\n",
       "      <td>NaN</td>\n",
       "      <td>NaN</td>\n",
       "      <td>NaN</td>\n",
       "      <td>NaN</td>\n",
       "      <td>NaN</td>\n",
       "      <td>NaN</td>\n",
       "    </tr>\n",
       "  </tbody>\n",
       "</table>\n",
       "</div>"
      ],
      "text/plain": [
       "  id_chamado         data_inicio id_bairro id_tipo    tipo id_subtipo  \\\n",
       "0   18516246 2023-04-01 00:55:38      None      93  Ônibus       1242   \n",
       "\n",
       "                                             subtipo nome  \\\n",
       "0  Verificação de ar condicionado inoperante no ô...  NaN   \n",
       "\n",
       "  id_area_planejamento id_regiao_planejamento nome_regiao_planejamento  \\\n",
       "0                  NaN                    NaN                      NaN   \n",
       "\n",
       "  id_regiao_administrativa nome_regiao_administrativa subprefeitura  area  \\\n",
       "0                      NaN                        NaN           NaN   NaN   \n",
       "\n",
       "   perimetro geometry_wkt geometry  \n",
       "0        NaN          NaN      NaN  "
      ]
     },
     "execution_count": 9,
     "metadata": {},
     "output_type": "execute_result"
    }
   ],
   "source": [
    "df_chamado_bairro = df_chamado_1o_de_abril.merge(\n",
    "    df_bairro, on='id_bairro', how='left'\n",
    ")\n",
    "df_chamado_bairro[df_chamado_bairro['id_bairro'].isnull()].head(1)"
   ]
  },
  {
   "cell_type": "markdown",
   "metadata": {},
   "source": [
    "6. Quantos chamados com o subtipo \"Perturbação do sossego\" foram abertos desde 01/01/2022 até 31/12/2023 (incluindo extremidades)?\n",
    "\n",
    "Resposta: 42.408 chamados por perturbação do sossego do dia 01/01/2022 ao dia 31/12/2023 (incluindo extremidades)."
   ]
  },
  {
   "cell_type": "code",
   "execution_count": 10,
   "metadata": {},
   "outputs": [
    {
     "data": {
      "text/plain": [
       "id_chamado    42408\n",
       "dtype: int64"
      ]
     },
     "execution_count": 10,
     "metadata": {},
     "output_type": "execute_result"
    }
   ],
   "source": [
    "df_perturbacao = df_chamado_1746[\n",
    "    df_chamado_1746['subtipo'] == 'Perturbação do sossego'\n",
    "]\n",
    "df_perturbacao.count().head(1)"
   ]
  },
  {
   "cell_type": "markdown",
   "metadata": {},
   "source": [
    "# Tabela de rede hoteleira e ocupação em eventos\n",
    "\n",
    "Outra tabela pequena e que foi baixada inteira para responder as próximas perguntas."
   ]
  },
  {
   "cell_type": "code",
   "execution_count": 11,
   "metadata": {},
   "outputs": [
    {
     "name": "stderr",
     "output_type": "stream",
     "text": [
      "Downloading: 100%|██████████| 4/4 [00:02<00:00,  1.87rows/s]\n"
     ]
    },
    {
     "data": {
      "text/html": [
       "<div>\n",
       "<style scoped>\n",
       "    .dataframe tbody tr th:only-of-type {\n",
       "        vertical-align: middle;\n",
       "    }\n",
       "\n",
       "    .dataframe tbody tr th {\n",
       "        vertical-align: top;\n",
       "    }\n",
       "\n",
       "    .dataframe thead th {\n",
       "        text-align: right;\n",
       "    }\n",
       "</style>\n",
       "<table border=\"1\" class=\"dataframe\">\n",
       "  <thead>\n",
       "    <tr style=\"text-align: right;\">\n",
       "      <th></th>\n",
       "      <th>ano</th>\n",
       "      <th>data_inicial</th>\n",
       "      <th>data_final</th>\n",
       "      <th>evento</th>\n",
       "      <th>taxa_ocupacao</th>\n",
       "    </tr>\n",
       "  </thead>\n",
       "  <tbody>\n",
       "    <tr>\n",
       "      <th>0</th>\n",
       "      <td>18/02 a 21/02 de 2023</td>\n",
       "      <td>2023-02-18</td>\n",
       "      <td>2023-02-21</td>\n",
       "      <td>Carnaval</td>\n",
       "      <td>0.9554</td>\n",
       "    </tr>\n",
       "    <tr>\n",
       "      <th>1</th>\n",
       "      <td>30-31/12 e 01/01 (2022-2023)</td>\n",
       "      <td>2022-12-30</td>\n",
       "      <td>2023-01-01</td>\n",
       "      <td>Reveillon</td>\n",
       "      <td>0.9251</td>\n",
       "    </tr>\n",
       "    <tr>\n",
       "      <th>2</th>\n",
       "      <td>02/09 a 04/09 de 2022</td>\n",
       "      <td>2022-09-02</td>\n",
       "      <td>2022-09-04</td>\n",
       "      <td>Rock in Rio</td>\n",
       "      <td>0.8184</td>\n",
       "    </tr>\n",
       "    <tr>\n",
       "      <th>3</th>\n",
       "      <td>08/09 a 11/09 de 2022</td>\n",
       "      <td>2022-09-08</td>\n",
       "      <td>2022-09-11</td>\n",
       "      <td>Rock in Rio</td>\n",
       "      <td>0.9451</td>\n",
       "    </tr>\n",
       "  </tbody>\n",
       "</table>\n",
       "</div>"
      ],
      "text/plain": [
       "                            ano data_inicial data_final       evento  \\\n",
       "0         18/02 a 21/02 de 2023   2023-02-18 2023-02-21     Carnaval   \n",
       "1  30-31/12 e 01/01 (2022-2023)   2022-12-30 2023-01-01    Reveillon   \n",
       "2         02/09 a 04/09 de 2022   2022-09-02 2022-09-04  Rock in Rio   \n",
       "3         08/09 a 11/09 de 2022   2022-09-08 2022-09-11  Rock in Rio   \n",
       "\n",
       "   taxa_ocupacao  \n",
       "0         0.9554  \n",
       "1         0.9251  \n",
       "2         0.8184  \n",
       "3         0.9451  "
      ]
     },
     "execution_count": 11,
     "metadata": {},
     "output_type": "execute_result"
    }
   ],
   "source": [
    "df_eventos = dados.eventos()\n",
    "df_eventos.head()"
   ]
  },
  {
   "cell_type": "markdown",
   "metadata": {},
   "source": [
    "7. Selecione os chamados com esse subtipo que foram abertos durante os eventos contidos na tabela de eventos (Reveillon, Carnaval e Rock in Rio).\n",
    "\n",
    "Resposta: 18.856 chamados por perturbação do sossego do dia 01/01/2022 ao dia 31/12/2023 (incluindo extremidades), mas apenas nos dias dentro dos intervalos dos eventos."
   ]
  },
  {
   "cell_type": "code",
   "execution_count": 12,
   "metadata": {},
   "outputs": [
    {
     "data": {
      "text/html": [
       "<div>\n",
       "<style scoped>\n",
       "    .dataframe tbody tr th:only-of-type {\n",
       "        vertical-align: middle;\n",
       "    }\n",
       "\n",
       "    .dataframe tbody tr th {\n",
       "        vertical-align: top;\n",
       "    }\n",
       "\n",
       "    .dataframe thead th {\n",
       "        text-align: right;\n",
       "    }\n",
       "</style>\n",
       "<table border=\"1\" class=\"dataframe\">\n",
       "  <thead>\n",
       "    <tr style=\"text-align: right;\">\n",
       "      <th></th>\n",
       "      <th>id_chamado</th>\n",
       "      <th>data_inicio</th>\n",
       "      <th>id_bairro</th>\n",
       "      <th>id_tipo</th>\n",
       "      <th>tipo</th>\n",
       "      <th>id_subtipo</th>\n",
       "      <th>subtipo</th>\n",
       "      <th>data_inicio_date</th>\n",
       "      <th>evento</th>\n",
       "    </tr>\n",
       "  </thead>\n",
       "  <tbody>\n",
       "    <tr>\n",
       "      <th>208331</th>\n",
       "      <td>18334549</td>\n",
       "      <td>2023-02-21 20:50:13</td>\n",
       "      <td>80</td>\n",
       "      <td>1</td>\n",
       "      <td>Iluminação Pública</td>\n",
       "      <td>6</td>\n",
       "      <td>Reparo de lâmpada apagada</td>\n",
       "      <td>2023-02-21</td>\n",
       "      <td>Carnaval</td>\n",
       "    </tr>\n",
       "    <tr>\n",
       "      <th>208332</th>\n",
       "      <td>18334645</td>\n",
       "      <td>2023-02-21 21:50:27</td>\n",
       "      <td>75</td>\n",
       "      <td>1</td>\n",
       "      <td>Iluminação Pública</td>\n",
       "      <td>6</td>\n",
       "      <td>Reparo de lâmpada apagada</td>\n",
       "      <td>2023-02-21</td>\n",
       "      <td>Carnaval</td>\n",
       "    </tr>\n",
       "    <tr>\n",
       "      <th>208333</th>\n",
       "      <td>18334173</td>\n",
       "      <td>2023-02-21 15:59:43</td>\n",
       "      <td>63</td>\n",
       "      <td>1</td>\n",
       "      <td>Iluminação Pública</td>\n",
       "      <td>6</td>\n",
       "      <td>Reparo de lâmpada apagada</td>\n",
       "      <td>2023-02-21</td>\n",
       "      <td>Carnaval</td>\n",
       "    </tr>\n",
       "    <tr>\n",
       "      <th>208334</th>\n",
       "      <td>18333990</td>\n",
       "      <td>2023-02-21 13:46:17</td>\n",
       "      <td>144</td>\n",
       "      <td>1</td>\n",
       "      <td>Iluminação Pública</td>\n",
       "      <td>6</td>\n",
       "      <td>Reparo de lâmpada apagada</td>\n",
       "      <td>2023-02-21</td>\n",
       "      <td>Carnaval</td>\n",
       "    </tr>\n",
       "    <tr>\n",
       "      <th>208335</th>\n",
       "      <td>18334584</td>\n",
       "      <td>2023-02-21 21:11:33</td>\n",
       "      <td>70</td>\n",
       "      <td>1</td>\n",
       "      <td>Iluminação Pública</td>\n",
       "      <td>6</td>\n",
       "      <td>Reparo de lâmpada apagada</td>\n",
       "      <td>2023-02-21</td>\n",
       "      <td>Carnaval</td>\n",
       "    </tr>\n",
       "  </tbody>\n",
       "</table>\n",
       "</div>"
      ],
      "text/plain": [
       "       id_chamado         data_inicio id_bairro id_tipo                tipo  \\\n",
       "208331   18334549 2023-02-21 20:50:13        80       1  Iluminação Pública   \n",
       "208332   18334645 2023-02-21 21:50:27        75       1  Iluminação Pública   \n",
       "208333   18334173 2023-02-21 15:59:43        63       1  Iluminação Pública   \n",
       "208334   18333990 2023-02-21 13:46:17       144       1  Iluminação Pública   \n",
       "208335   18334584 2023-02-21 21:11:33        70       1  Iluminação Pública   \n",
       "\n",
       "       id_subtipo                    subtipo data_inicio_date    evento  \n",
       "208331          6  Reparo de lâmpada apagada       2023-02-21  Carnaval  \n",
       "208332          6  Reparo de lâmpada apagada       2023-02-21  Carnaval  \n",
       "208333          6  Reparo de lâmpada apagada       2023-02-21  Carnaval  \n",
       "208334          6  Reparo de lâmpada apagada       2023-02-21  Carnaval  \n",
       "208335          6  Reparo de lâmpada apagada       2023-02-21  Carnaval  "
      ]
     },
     "execution_count": 12,
     "metadata": {},
     "output_type": "execute_result"
    }
   ],
   "source": [
    "dfs_chamado_evento = []\n",
    "df_chamado_evento : pd.DataFrame\n",
    "df_chamado_data = df_chamado_1746\n",
    "df_chamado_data['data_inicio_date'] = pd.to_datetime(df_chamado_1746['data_inicio']).dt.normalize()\n",
    "for index, row in df_eventos[['data_inicial', 'data_final', 'evento']].iterrows():\n",
    "    maior_que_inicio = row['data_inicial'] <= df_chamado_1746['data_inicio_date']\n",
    "    menor_que_fim = df_chamado_1746['data_inicio_date'] <= row['data_final']\n",
    "    dentro_do_intervalo = menor_que_fim & maior_que_inicio\n",
    "    temp_df = df_chamado_data[dentro_do_intervalo]\n",
    "    temp_df['evento'] = row['evento']\n",
    "    dfs_chamado_evento.append(temp_df)\n",
    "df_chamado_evento = pd.concat(dfs_chamado_evento)\n",
    "df_chamado_evento.head()"
   ]
  },
  {
   "cell_type": "code",
   "execution_count": 13,
   "metadata": {},
   "outputs": [
    {
     "data": {
      "text/plain": [
       "18856"
      ]
     },
     "execution_count": 13,
     "metadata": {},
     "output_type": "execute_result"
    }
   ],
   "source": [
    "df_chamado_evento.count()['id_chamado']"
   ]
  },
  {
   "cell_type": "markdown",
   "metadata": {},
   "source": [
    "8. Quantos chamados desse subtipo foram abertos em cada evento?\n",
    "\n",
    "Resposta: Rock in Rio (10.446), Carnaval (5.356), Reveillon (3.054)."
   ]
  },
  {
   "cell_type": "code",
   "execution_count": 14,
   "metadata": {},
   "outputs": [
    {
     "data": {
      "text/html": [
       "<div>\n",
       "<style scoped>\n",
       "    .dataframe tbody tr th:only-of-type {\n",
       "        vertical-align: middle;\n",
       "    }\n",
       "\n",
       "    .dataframe tbody tr th {\n",
       "        vertical-align: top;\n",
       "    }\n",
       "\n",
       "    .dataframe thead th {\n",
       "        text-align: right;\n",
       "    }\n",
       "</style>\n",
       "<table border=\"1\" class=\"dataframe\">\n",
       "  <thead>\n",
       "    <tr style=\"text-align: right;\">\n",
       "      <th></th>\n",
       "      <th>ocorrências por perturbação do sossego</th>\n",
       "    </tr>\n",
       "    <tr>\n",
       "      <th>evento</th>\n",
       "      <th></th>\n",
       "    </tr>\n",
       "  </thead>\n",
       "  <tbody>\n",
       "    <tr>\n",
       "      <th>Rock in Rio</th>\n",
       "      <td>10446</td>\n",
       "    </tr>\n",
       "    <tr>\n",
       "      <th>Carnaval</th>\n",
       "      <td>5356</td>\n",
       "    </tr>\n",
       "    <tr>\n",
       "      <th>Reveillon</th>\n",
       "      <td>3054</td>\n",
       "    </tr>\n",
       "  </tbody>\n",
       "</table>\n",
       "</div>"
      ],
      "text/plain": [
       "             ocorrências por perturbação do sossego\n",
       "evento                                             \n",
       "Rock in Rio                                   10446\n",
       "Carnaval                                       5356\n",
       "Reveillon                                      3054"
      ]
     },
     "execution_count": 14,
     "metadata": {},
     "output_type": "execute_result"
    }
   ],
   "source": [
    "df_chamado_evento \\\n",
    "    .groupby(['evento']) \\\n",
    "    .count()[['id_chamado']] \\\n",
    "    .sort_values(by='id_chamado', ascending=False) \\\n",
    "    .rename(columns={'id_chamado': 'ocorrências por perturbação do sossego'})"
   ]
  },
  {
   "cell_type": "markdown",
   "metadata": {},
   "source": [
    "9. Qual evento teve a maior média diária de chamados abertos desse subtipo?\n",
    "\n",
    "Resposta: Rock in Rio com média de aproximadamente 1.492 chamados por dia."
   ]
  },
  {
   "cell_type": "code",
   "execution_count": 15,
   "metadata": {},
   "outputs": [
    {
     "data": {
      "text/html": [
       "<div>\n",
       "<style scoped>\n",
       "    .dataframe tbody tr th:only-of-type {\n",
       "        vertical-align: middle;\n",
       "    }\n",
       "\n",
       "    .dataframe tbody tr th {\n",
       "        vertical-align: top;\n",
       "    }\n",
       "\n",
       "    .dataframe thead th {\n",
       "        text-align: right;\n",
       "    }\n",
       "</style>\n",
       "<table border=\"1\" class=\"dataframe\">\n",
       "  <thead>\n",
       "    <tr style=\"text-align: right;\">\n",
       "      <th></th>\n",
       "      <th>media_de_ocorrencias_diarias</th>\n",
       "    </tr>\n",
       "    <tr>\n",
       "      <th>evento</th>\n",
       "      <th></th>\n",
       "    </tr>\n",
       "  </thead>\n",
       "  <tbody>\n",
       "    <tr>\n",
       "      <th>Rock in Rio</th>\n",
       "      <td>1492.285714</td>\n",
       "    </tr>\n",
       "    <tr>\n",
       "      <th>Carnaval</th>\n",
       "      <td>1339.000000</td>\n",
       "    </tr>\n",
       "    <tr>\n",
       "      <th>Reveillon</th>\n",
       "      <td>1018.000000</td>\n",
       "    </tr>\n",
       "  </tbody>\n",
       "</table>\n",
       "</div>"
      ],
      "text/plain": [
       "             media_de_ocorrencias_diarias\n",
       "evento                                   \n",
       "Rock in Rio                   1492.285714\n",
       "Carnaval                      1339.000000\n",
       "Reveillon                     1018.000000"
      ]
     },
     "execution_count": 15,
     "metadata": {},
     "output_type": "execute_result"
    }
   ],
   "source": [
    "df_media_ocorrencias_evento = df_chamado_evento \\\n",
    "    .groupby(['evento', 'data_inicio_date'])[['data_inicio_date']] \\\n",
    "    .count() \\\n",
    "    .groupby(['evento']) \\\n",
    "    .mean() \\\n",
    "    .rename(columns={'data_inicio_date': 'media_de_ocorrencias_diarias'}) \\\n",
    "    .sort_values(by='media_de_ocorrencias_diarias', ascending=False)\n",
    "df_media_ocorrencias_evento"
   ]
  },
  {
   "cell_type": "markdown",
   "metadata": {},
   "source": [
    "10. Compare as médias diárias de chamados abertos desse subtipo durante os eventos específicos (Reveillon, Carnaval e Rock in Rio) e a média diária de chamados abertos desse subtipo considerando todo o período de 01/01/2022 até 31/12/2023.\n",
    "\n",
    "Resposta: Carnaval (média de 1339 chamados por dia) e Reveillon (média de 1018 chamados por dia) ficaram abaixo da média de todo o período (aproximadamente 1347 chamados por dia), Rock in Rio (média de aproximadamente 1492) ficou acima."
   ]
  },
  {
   "cell_type": "code",
   "execution_count": 16,
   "metadata": {},
   "outputs": [
    {
     "data": {
      "text/html": [
       "<div>\n",
       "<style scoped>\n",
       "    .dataframe tbody tr th:only-of-type {\n",
       "        vertical-align: middle;\n",
       "    }\n",
       "\n",
       "    .dataframe tbody tr th {\n",
       "        vertical-align: top;\n",
       "    }\n",
       "\n",
       "    .dataframe thead th {\n",
       "        text-align: right;\n",
       "    }\n",
       "</style>\n",
       "<table border=\"1\" class=\"dataframe\">\n",
       "  <thead>\n",
       "    <tr style=\"text-align: right;\">\n",
       "      <th></th>\n",
       "      <th>media_de_ocorrencias_diarias</th>\n",
       "    </tr>\n",
       "    <tr>\n",
       "      <th>evento</th>\n",
       "      <th></th>\n",
       "    </tr>\n",
       "  </thead>\n",
       "  <tbody>\n",
       "    <tr>\n",
       "      <th>Rock in Rio</th>\n",
       "      <td>1492.285714</td>\n",
       "    </tr>\n",
       "    <tr>\n",
       "      <th>Média diária no período</th>\n",
       "      <td>1346.857143</td>\n",
       "    </tr>\n",
       "    <tr>\n",
       "      <th>Carnaval</th>\n",
       "      <td>1339.000000</td>\n",
       "    </tr>\n",
       "    <tr>\n",
       "      <th>Reveillon</th>\n",
       "      <td>1018.000000</td>\n",
       "    </tr>\n",
       "  </tbody>\n",
       "</table>\n",
       "</div>"
      ],
      "text/plain": [
       "                         media_de_ocorrencias_diarias\n",
       "evento                                               \n",
       "Rock in Rio                               1492.285714\n",
       "Média diária no período                   1346.857143\n",
       "Carnaval                                  1339.000000\n",
       "Reveillon                                 1018.000000"
      ]
     },
     "execution_count": 16,
     "metadata": {},
     "output_type": "execute_result"
    }
   ],
   "source": [
    "s_media_ocorrencias_periodo = df_chamado_evento \\\n",
    "    .groupby(['data_inicio_date'])[['data_inicio_date']] \\\n",
    "    .count() \\\n",
    "    .rename(columns={'data_inicio_date': 'ocorrencias_diarias'}) \\\n",
    "    .mean() \\\n",
    "    .rename({'ocorrencias_diarias': 'media_de_ocorrencias_diarias'})\n",
    "s_media_ocorrencias_periodo.name = 'Média diária no período'\n",
    "df_media_ocorrencias_evento \\\n",
    "    .append(s_media_ocorrencias_periodo) \\\n",
    "    .sort_values(by='media_de_ocorrencias_diarias', ascending=False)"
   ]
  }
 ],
 "metadata": {
  "kernelspec": {
   "display_name": ".venv",
   "language": "python",
   "name": "python3"
  },
  "language_info": {
   "codemirror_mode": {
    "name": "ipython",
    "version": 3
   },
   "file_extension": ".py",
   "mimetype": "text/x-python",
   "name": "python",
   "nbconvert_exporter": "python",
   "pygments_lexer": "ipython3",
   "version": "3.11.7"
  }
 },
 "nbformat": 4,
 "nbformat_minor": 2
}
