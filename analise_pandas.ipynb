{
 "cells": [
  {
   "cell_type": "code",
   "execution_count": 1,
   "metadata": {},
   "outputs": [],
   "source": [
    "import pandas as pd\n",
    "import markupsafe\n",
    "#\n",
    "markupsafe.soft_unicode = markupsafe.soft_str\n",
    "import basedosdados as bd\n",
    "#\n",
    "from datetime import date\n",
    "from dotenv import get_key\n",
    "#\n",
    "#\n",
    "BILLING_PROJECT_ID = get_key('.env', 'BILLING_PROJECT_ID')"
   ]
  },
  {
   "cell_type": "markdown",
   "metadata": {},
   "source": [
    "# Tabela de Chamados 1746\n",
    "\n",
    "Por ser uma tabela grande e por estar particionada, e tendo verificado que toda informação sobre um intervalo de datas está na partição correspondente, baixei apenas e na totalidade os dados de chamados necessários para responder às 10 perguntas."
   ]
  },
  {
   "cell_type": "code",
   "execution_count": 2,
   "metadata": {},
   "outputs": [
    {
     "name": "stderr",
     "output_type": "stream",
     "text": [
      "Downloading: 100%|██████████| 1617598/1617598 [00:07<00:00, 218387.77rows/s]\n"
     ]
    },
    {
     "data": {
      "text/html": [
       "<div>\n",
       "<style scoped>\n",
       "    .dataframe tbody tr th:only-of-type {\n",
       "        vertical-align: middle;\n",
       "    }\n",
       "\n",
       "    .dataframe tbody tr th {\n",
       "        vertical-align: top;\n",
       "    }\n",
       "\n",
       "    .dataframe thead th {\n",
       "        text-align: right;\n",
       "    }\n",
       "</style>\n",
       "<table border=\"1\" class=\"dataframe\">\n",
       "  <thead>\n",
       "    <tr style=\"text-align: right;\">\n",
       "      <th></th>\n",
       "      <th>id_chamado</th>\n",
       "      <th>data_inicio</th>\n",
       "      <th>id_bairro</th>\n",
       "      <th>id_tipo</th>\n",
       "      <th>tipo</th>\n",
       "      <th>id_subtipo</th>\n",
       "      <th>subtipo</th>\n",
       "    </tr>\n",
       "  </thead>\n",
       "  <tbody>\n",
       "    <tr>\n",
       "      <th>0</th>\n",
       "      <td>18361489</td>\n",
       "      <td>2023-02-28 09:57:05</td>\n",
       "      <td>65</td>\n",
       "      <td>1</td>\n",
       "      <td>Iluminação Pública</td>\n",
       "      <td>6</td>\n",
       "      <td>Reparo de lâmpada apagada</td>\n",
       "    </tr>\n",
       "    <tr>\n",
       "      <th>1</th>\n",
       "      <td>18356609</td>\n",
       "      <td>2023-02-27 12:58:25</td>\n",
       "      <td>144</td>\n",
       "      <td>1</td>\n",
       "      <td>Iluminação Pública</td>\n",
       "      <td>6</td>\n",
       "      <td>Reparo de lâmpada apagada</td>\n",
       "    </tr>\n",
       "    <tr>\n",
       "      <th>2</th>\n",
       "      <td>18342910</td>\n",
       "      <td>2023-02-23 22:42:35</td>\n",
       "      <td>149</td>\n",
       "      <td>1</td>\n",
       "      <td>Iluminação Pública</td>\n",
       "      <td>6</td>\n",
       "      <td>Reparo de lâmpada apagada</td>\n",
       "    </tr>\n",
       "    <tr>\n",
       "      <th>3</th>\n",
       "      <td>18348841</td>\n",
       "      <td>2023-02-25 00:39:51</td>\n",
       "      <td>144</td>\n",
       "      <td>1</td>\n",
       "      <td>Iluminação Pública</td>\n",
       "      <td>6</td>\n",
       "      <td>Reparo de lâmpada apagada</td>\n",
       "    </tr>\n",
       "    <tr>\n",
       "      <th>4</th>\n",
       "      <td>18361306</td>\n",
       "      <td>2023-02-28 09:38:12</td>\n",
       "      <td>139</td>\n",
       "      <td>1</td>\n",
       "      <td>Iluminação Pública</td>\n",
       "      <td>6</td>\n",
       "      <td>Reparo de lâmpada apagada</td>\n",
       "    </tr>\n",
       "  </tbody>\n",
       "</table>\n",
       "</div>"
      ],
      "text/plain": [
       "  id_chamado         data_inicio id_bairro id_tipo                tipo  \\\n",
       "0   18361489 2023-02-28 09:57:05        65       1  Iluminação Pública   \n",
       "1   18356609 2023-02-27 12:58:25       144       1  Iluminação Pública   \n",
       "2   18342910 2023-02-23 22:42:35       149       1  Iluminação Pública   \n",
       "3   18348841 2023-02-25 00:39:51       144       1  Iluminação Pública   \n",
       "4   18361306 2023-02-28 09:38:12       139       1  Iluminação Pública   \n",
       "\n",
       "  id_subtipo                    subtipo  \n",
       "0          6  Reparo de lâmpada apagada  \n",
       "1          6  Reparo de lâmpada apagada  \n",
       "2          6  Reparo de lâmpada apagada  \n",
       "3          6  Reparo de lâmpada apagada  \n",
       "4          6  Reparo de lâmpada apagada  "
      ]
     },
     "execution_count": 2,
     "metadata": {},
     "output_type": "execute_result"
    }
   ],
   "source": [
    "df_chamado_1746 = bd.read_sql(\n",
    "'''\n",
    "SELECT\n",
    "    id_chamado\n",
    "    ,data_inicio\n",
    "    ,id_bairro\n",
    "    ,id_tipo\n",
    "    ,tipo\n",
    "    ,id_subtipo\n",
    "    ,subtipo\n",
    "FROM\n",
    "    `datario.administracao_servicos_publicos.chamado_1746`\n",
    "WHERE\n",
    "  data_particao BETWEEN '2022-01-01' AND '2023-12-31'\n",
    "''',\n",
    "billing_project_id=BILLING_PROJECT_ID\n",
    ")\n",
    "df_chamado_1746.head()"
   ]
  },
  {
   "cell_type": "markdown",
   "metadata": {},
   "source": [
    "1. Quantos chamados foram abertos no dia 01/04/2023?\n",
    "\n",
    "Resposta: No dia 01/04/2023 foram abertos 73 chamados."
   ]
  },
  {
   "cell_type": "code",
   "execution_count": 3,
   "metadata": {},
   "outputs": [
    {
     "data": {
      "text/plain": [
       "id_chamado    73\n",
       "dtype: int64"
      ]
     },
     "execution_count": 3,
     "metadata": {},
     "output_type": "execute_result"
    }
   ],
   "source": [
    "# 1\n",
    "df_chamado_1o_de_abril = df_chamado_1746[\n",
    "    df_chamado_1746['data_inicio'].apply(\n",
    "        lambda dt: dt.date()\n",
    "    ) == date(year=2023, month=4, day=1)\n",
    "]\n",
    "df_chamado_1o_de_abril.count().head(1)"
   ]
  },
  {
   "cell_type": "markdown",
   "metadata": {},
   "source": [
    "2. Qual o tipo de chamado que teve mais reclamações no dia 01/04/2023?\n",
    "\n",
    "Resposta: No dia 01/04/2023 o tipo de chamado que teve mais reclamações foi Poluição Sonora com 24 chamados."
   ]
  },
  {
   "cell_type": "code",
   "execution_count": 4,
   "metadata": {},
   "outputs": [
    {
     "data": {
      "text/plain": [
       "tipo\n",
       "Poluição sonora    24\n",
       "Name: tipo, dtype: int64"
      ]
     },
     "execution_count": 4,
     "metadata": {},
     "output_type": "execute_result"
    }
   ],
   "source": [
    "# 2\n",
    "df_chamado_1o_de_abril \\\n",
    "    .groupby(['tipo'])['tipo'] \\\n",
    "    .count() \\\n",
    "    .sort_values(ascending=False) \\\n",
    "    .head(1)"
   ]
  },
  {
   "cell_type": "markdown",
   "metadata": {},
   "source": [
    "# Tabela de bairros\n",
    "\n",
    "Para responder as próximas perguntas foi necessário baixar os dados da tabela de bairros, por ser uma tabela pequena foi possível baixar a tabela inteira."
   ]
  },
  {
   "cell_type": "code",
   "execution_count": 5,
   "metadata": {},
   "outputs": [
    {
     "name": "stderr",
     "output_type": "stream",
     "text": [
      "Downloading: 100%|██████████| 164/164 [00:03<00:00, 44.36rows/s]\n"
     ]
    },
    {
     "data": {
      "text/html": [
       "<div>\n",
       "<style scoped>\n",
       "    .dataframe tbody tr th:only-of-type {\n",
       "        vertical-align: middle;\n",
       "    }\n",
       "\n",
       "    .dataframe tbody tr th {\n",
       "        vertical-align: top;\n",
       "    }\n",
       "\n",
       "    .dataframe thead th {\n",
       "        text-align: right;\n",
       "    }\n",
       "</style>\n",
       "<table border=\"1\" class=\"dataframe\">\n",
       "  <thead>\n",
       "    <tr style=\"text-align: right;\">\n",
       "      <th></th>\n",
       "      <th>id_bairro</th>\n",
       "      <th>nome</th>\n",
       "      <th>id_area_planejamento</th>\n",
       "      <th>id_regiao_planejamento</th>\n",
       "      <th>nome_regiao_planejamento</th>\n",
       "      <th>id_regiao_administrativa</th>\n",
       "      <th>nome_regiao_administrativa</th>\n",
       "      <th>subprefeitura</th>\n",
       "      <th>area</th>\n",
       "      <th>perimetro</th>\n",
       "      <th>geometry_wkt</th>\n",
       "      <th>geometry</th>\n",
       "    </tr>\n",
       "  </thead>\n",
       "  <tbody>\n",
       "    <tr>\n",
       "      <th>0</th>\n",
       "      <td>2</td>\n",
       "      <td>Gamboa</td>\n",
       "      <td>1</td>\n",
       "      <td>1.1</td>\n",
       "      <td>Centro</td>\n",
       "      <td>1</td>\n",
       "      <td>Portuaria</td>\n",
       "      <td>Centro</td>\n",
       "      <td>1.112903e+06</td>\n",
       "      <td>4612.833630</td>\n",
       "      <td>POLYGON ((-43.18791509600138 -22.8931217212322...</td>\n",
       "      <td>POLYGON((-43.1879150960014 -22.8931217212322, ...</td>\n",
       "    </tr>\n",
       "    <tr>\n",
       "      <th>1</th>\n",
       "      <td>1</td>\n",
       "      <td>Saúde</td>\n",
       "      <td>1</td>\n",
       "      <td>1.1</td>\n",
       "      <td>Centro</td>\n",
       "      <td>1</td>\n",
       "      <td>Portuaria</td>\n",
       "      <td>Centro</td>\n",
       "      <td>3.638176e+05</td>\n",
       "      <td>2646.220568</td>\n",
       "      <td>POLYGON ((-43.181151633502964 -22.895430284304...</td>\n",
       "      <td>POLYGON((-43.181151633503 -22.8954302843042, -...</td>\n",
       "    </tr>\n",
       "    <tr>\n",
       "      <th>2</th>\n",
       "      <td>4</td>\n",
       "      <td>Caju</td>\n",
       "      <td>1</td>\n",
       "      <td>1.1</td>\n",
       "      <td>Centro</td>\n",
       "      <td>1</td>\n",
       "      <td>Portuaria</td>\n",
       "      <td>Centro</td>\n",
       "      <td>5.347481e+06</td>\n",
       "      <td>19800.522524</td>\n",
       "      <td>MULTIPOLYGON (((-43.22522241788469 -22.8746498...</td>\n",
       "      <td>MULTIPOLYGON(((-43.196711909178 -22.8872495021...</td>\n",
       "    </tr>\n",
       "    <tr>\n",
       "      <th>3</th>\n",
       "      <td>3</td>\n",
       "      <td>Santo Cristo</td>\n",
       "      <td>1</td>\n",
       "      <td>1.1</td>\n",
       "      <td>Centro</td>\n",
       "      <td>1</td>\n",
       "      <td>Portuaria</td>\n",
       "      <td>Centro</td>\n",
       "      <td>1.684721e+06</td>\n",
       "      <td>6743.227885</td>\n",
       "      <td>POLYGON ((-43.194498082949806 -22.903378003392...</td>\n",
       "      <td>POLYGON((-43.1944980829498 -22.9033780033923, ...</td>\n",
       "    </tr>\n",
       "    <tr>\n",
       "      <th>4</th>\n",
       "      <td>161</td>\n",
       "      <td>Lapa</td>\n",
       "      <td>1</td>\n",
       "      <td>1.1</td>\n",
       "      <td>Centro</td>\n",
       "      <td>2</td>\n",
       "      <td>Centro</td>\n",
       "      <td>Centro</td>\n",
       "      <td>2.983258e+05</td>\n",
       "      <td>3849.181818</td>\n",
       "      <td>POLYGON ((-43.18166120770202 -22.9120798224676...</td>\n",
       "      <td>POLYGON((-43.181661207702 -22.9120798224677, -...</td>\n",
       "    </tr>\n",
       "  </tbody>\n",
       "</table>\n",
       "</div>"
      ],
      "text/plain": [
       "  id_bairro          nome id_area_planejamento id_regiao_planejamento  \\\n",
       "0         2        Gamboa                    1                    1.1   \n",
       "1         1         Saúde                    1                    1.1   \n",
       "2         4          Caju                    1                    1.1   \n",
       "3         3  Santo Cristo                    1                    1.1   \n",
       "4       161          Lapa                    1                    1.1   \n",
       "\n",
       "  nome_regiao_planejamento id_regiao_administrativa  \\\n",
       "0                   Centro                        1   \n",
       "1                   Centro                        1   \n",
       "2                   Centro                        1   \n",
       "3                   Centro                        1   \n",
       "4                   Centro                        2   \n",
       "\n",
       "  nome_regiao_administrativa subprefeitura          area     perimetro  \\\n",
       "0                  Portuaria        Centro  1.112903e+06   4612.833630   \n",
       "1                  Portuaria        Centro  3.638176e+05   2646.220568   \n",
       "2                  Portuaria        Centro  5.347481e+06  19800.522524   \n",
       "3                  Portuaria        Centro  1.684721e+06   6743.227885   \n",
       "4                     Centro        Centro  2.983258e+05   3849.181818   \n",
       "\n",
       "                                        geometry_wkt  \\\n",
       "0  POLYGON ((-43.18791509600138 -22.8931217212322...   \n",
       "1  POLYGON ((-43.181151633502964 -22.895430284304...   \n",
       "2  MULTIPOLYGON (((-43.22522241788469 -22.8746498...   \n",
       "3  POLYGON ((-43.194498082949806 -22.903378003392...   \n",
       "4  POLYGON ((-43.18166120770202 -22.9120798224676...   \n",
       "\n",
       "                                            geometry  \n",
       "0  POLYGON((-43.1879150960014 -22.8931217212322, ...  \n",
       "1  POLYGON((-43.181151633503 -22.8954302843042, -...  \n",
       "2  MULTIPOLYGON(((-43.196711909178 -22.8872495021...  \n",
       "3  POLYGON((-43.1944980829498 -22.9033780033923, ...  \n",
       "4  POLYGON((-43.181661207702 -22.9120798224677, -...  "
      ]
     },
     "execution_count": 5,
     "metadata": {},
     "output_type": "execute_result"
    }
   ],
   "source": [
    "df_bairro = bd.read_table(\n",
    "    dataset_id='dados_mestres',\n",
    "    table_id='bairro',\n",
    "    billing_project_id=BILLING_PROJECT_ID,\n",
    "    query_project_id='datario'\n",
    ")\n",
    "df_bairro.head()"
   ]
  },
  {
   "cell_type": "markdown",
   "metadata": {},
   "source": [
    "3. Quais os nomes dos 3 bairros que mais tiveram chamados abertos nesse dia?\n",
    "\n",
    "Resposta: Engenho de Dentro (8 chamados), Campo Grande (6 chamados) e Leblon (6 chamados)."
   ]
  },
  {
   "cell_type": "code",
   "execution_count": 6,
   "metadata": {},
   "outputs": [
    {
     "data": {
      "text/plain": [
       "nome\n",
       "Engenho de Dentro    8\n",
       "Campo Grande         6\n",
       "Leblon               6\n",
       "Barra da Tijuca      5\n",
       "Engenho da Rainha    5\n",
       "Name: nome, dtype: int64"
      ]
     },
     "execution_count": 6,
     "metadata": {},
     "output_type": "execute_result"
    }
   ],
   "source": [
    "df_chamado_1o_de_abril \\\n",
    "    .merge(df_bairro, on='id_bairro', how='inner') \\\n",
    "    .groupby(['nome'])['nome'] \\\n",
    "    .count() \\\n",
    "    .sort_values(ascending=False) \\\n",
    "    .head(5)"
   ]
  },
  {
   "cell_type": "markdown",
   "metadata": {},
   "source": [
    "4. Qual o nome da subprefeitura com mais chamados abertos nesse dia?\n",
    "\n",
    "Resposta: Zona Norte (25)"
   ]
  },
  {
   "cell_type": "code",
   "execution_count": 7,
   "metadata": {},
   "outputs": [
    {
     "data": {
      "text/plain": [
       "subprefeitura\n",
       "Zona Norte         25\n",
       "Zona Sul           12\n",
       "Zona Oeste         10\n",
       "Centro              7\n",
       "Barra da Tijuca     6\n",
       "Name: subprefeitura, dtype: int64"
      ]
     },
     "execution_count": 7,
     "metadata": {},
     "output_type": "execute_result"
    }
   ],
   "source": [
    "df_chamado_1o_de_abril \\\n",
    "    .merge(df_bairro, on='id_bairro', how='inner') \\\n",
    "    .groupby(['subprefeitura'])['subprefeitura'] \\\n",
    "    .count() \\\n",
    "    .sort_values(ascending=False) \\\n",
    "    .head(5)"
   ]
  },
  {
   "cell_type": "markdown",
   "metadata": {},
   "source": [
    "5. Existe algum chamado aberto nesse dia que não foi associado a um bairro ou subprefeitura na tabela de bairros? Se sim, por que isso acontece?\n",
    "\n",
    "Resposta: Existe, é uma reclamação sobre ar-condicionado inoperante num ônibus, pela natureza móvel do ônibus faz mais sentido indicar informações como número do veículo, linha e horário do que um local específico."
   ]
  },
  {
   "cell_type": "code",
   "execution_count": 8,
   "metadata": {},
   "outputs": [
    {
     "data": {
      "text/html": [
       "<div>\n",
       "<style scoped>\n",
       "    .dataframe tbody tr th:only-of-type {\n",
       "        vertical-align: middle;\n",
       "    }\n",
       "\n",
       "    .dataframe tbody tr th {\n",
       "        vertical-align: top;\n",
       "    }\n",
       "\n",
       "    .dataframe thead th {\n",
       "        text-align: right;\n",
       "    }\n",
       "</style>\n",
       "<table border=\"1\" class=\"dataframe\">\n",
       "  <thead>\n",
       "    <tr style=\"text-align: right;\">\n",
       "      <th></th>\n",
       "      <th>id_chamado</th>\n",
       "      <th>data_inicio</th>\n",
       "      <th>id_bairro</th>\n",
       "      <th>id_tipo</th>\n",
       "      <th>tipo</th>\n",
       "      <th>id_subtipo</th>\n",
       "      <th>subtipo</th>\n",
       "      <th>nome</th>\n",
       "      <th>id_area_planejamento</th>\n",
       "      <th>id_regiao_planejamento</th>\n",
       "      <th>nome_regiao_planejamento</th>\n",
       "      <th>id_regiao_administrativa</th>\n",
       "      <th>nome_regiao_administrativa</th>\n",
       "      <th>subprefeitura</th>\n",
       "      <th>area</th>\n",
       "      <th>perimetro</th>\n",
       "      <th>geometry_wkt</th>\n",
       "      <th>geometry</th>\n",
       "    </tr>\n",
       "  </thead>\n",
       "  <tbody>\n",
       "    <tr>\n",
       "      <th>0</th>\n",
       "      <td>18516246</td>\n",
       "      <td>2023-04-01 00:55:38</td>\n",
       "      <td>None</td>\n",
       "      <td>93</td>\n",
       "      <td>Ônibus</td>\n",
       "      <td>1242</td>\n",
       "      <td>Verificação de ar condicionado inoperante no ô...</td>\n",
       "      <td>NaN</td>\n",
       "      <td>NaN</td>\n",
       "      <td>NaN</td>\n",
       "      <td>NaN</td>\n",
       "      <td>NaN</td>\n",
       "      <td>NaN</td>\n",
       "      <td>NaN</td>\n",
       "      <td>NaN</td>\n",
       "      <td>NaN</td>\n",
       "      <td>NaN</td>\n",
       "      <td>NaN</td>\n",
       "    </tr>\n",
       "  </tbody>\n",
       "</table>\n",
       "</div>"
      ],
      "text/plain": [
       "  id_chamado         data_inicio id_bairro id_tipo    tipo id_subtipo  \\\n",
       "0   18516246 2023-04-01 00:55:38      None      93  Ônibus       1242   \n",
       "\n",
       "                                             subtipo nome  \\\n",
       "0  Verificação de ar condicionado inoperante no ô...  NaN   \n",
       "\n",
       "  id_area_planejamento id_regiao_planejamento nome_regiao_planejamento  \\\n",
       "0                  NaN                    NaN                      NaN   \n",
       "\n",
       "  id_regiao_administrativa nome_regiao_administrativa subprefeitura  area  \\\n",
       "0                      NaN                        NaN           NaN   NaN   \n",
       "\n",
       "   perimetro geometry_wkt geometry  \n",
       "0        NaN          NaN      NaN  "
      ]
     },
     "execution_count": 8,
     "metadata": {},
     "output_type": "execute_result"
    }
   ],
   "source": [
    "df_chamado_bairro = df_chamado_1o_de_abril.merge(\n",
    "    df_bairro, on='id_bairro', how='left'\n",
    ")\n",
    "df_chamado_bairro[df_chamado_bairro['id_bairro'].isnull()].head(1)"
   ]
  },
  {
   "cell_type": "markdown",
   "metadata": {},
   "source": [
    "6. Quantos chamados com o subtipo \"Perturbação do sossego\" foram abertos desde 01/01/2022 até 31/12/2023 (incluindo extremidades)?\n",
    "\n",
    "Resposta: 42.408 chamados por perturbação do sossego do dia 01/01/2022 ao dia 31/12/2023 (incluindo extremidades)."
   ]
  },
  {
   "cell_type": "code",
   "execution_count": 9,
   "metadata": {},
   "outputs": [
    {
     "data": {
      "text/plain": [
       "id_chamado    42408\n",
       "dtype: int64"
      ]
     },
     "execution_count": 9,
     "metadata": {},
     "output_type": "execute_result"
    }
   ],
   "source": [
    "df_perturbacao = df_chamado_1746[\n",
    "    df_chamado_1746['subtipo'] == 'Perturbação do sossego'\n",
    "]\n",
    "df_perturbacao.count().head(1)"
   ]
  },
  {
   "cell_type": "markdown",
   "metadata": {},
   "source": [
    "# Tabela de rede hoteleira e ocupação em eventos\n",
    "\n",
    "Outra tabela pequena e que foi baixada inteira para responder as próximas perguntas."
   ]
  },
  {
   "cell_type": "code",
   "execution_count": 10,
   "metadata": {},
   "outputs": [
    {
     "name": "stderr",
     "output_type": "stream",
     "text": [
      "Downloading: 100%|██████████| 4/4 [00:02<00:00,  1.78rows/s]\n"
     ]
    },
    {
     "data": {
      "text/html": [
       "<div>\n",
       "<style scoped>\n",
       "    .dataframe tbody tr th:only-of-type {\n",
       "        vertical-align: middle;\n",
       "    }\n",
       "\n",
       "    .dataframe tbody tr th {\n",
       "        vertical-align: top;\n",
       "    }\n",
       "\n",
       "    .dataframe thead th {\n",
       "        text-align: right;\n",
       "    }\n",
       "</style>\n",
       "<table border=\"1\" class=\"dataframe\">\n",
       "  <thead>\n",
       "    <tr style=\"text-align: right;\">\n",
       "      <th></th>\n",
       "      <th>ano</th>\n",
       "      <th>data_inicial</th>\n",
       "      <th>data_final</th>\n",
       "      <th>evento</th>\n",
       "      <th>taxa_ocupacao</th>\n",
       "    </tr>\n",
       "  </thead>\n",
       "  <tbody>\n",
       "    <tr>\n",
       "      <th>0</th>\n",
       "      <td>18/02 a 21/02 de 2023</td>\n",
       "      <td>2023-02-18</td>\n",
       "      <td>2023-02-21</td>\n",
       "      <td>Carnaval</td>\n",
       "      <td>0.9554</td>\n",
       "    </tr>\n",
       "    <tr>\n",
       "      <th>1</th>\n",
       "      <td>30-31/12 e 01/01 (2022-2023)</td>\n",
       "      <td>2022-12-30</td>\n",
       "      <td>2023-01-01</td>\n",
       "      <td>Reveillon</td>\n",
       "      <td>0.9251</td>\n",
       "    </tr>\n",
       "    <tr>\n",
       "      <th>2</th>\n",
       "      <td>02/09 a 04/09 de 2022</td>\n",
       "      <td>2022-09-02</td>\n",
       "      <td>2022-09-04</td>\n",
       "      <td>Rock in Rio</td>\n",
       "      <td>0.8184</td>\n",
       "    </tr>\n",
       "    <tr>\n",
       "      <th>3</th>\n",
       "      <td>08/09 a 11/09 de 2022</td>\n",
       "      <td>2022-09-08</td>\n",
       "      <td>2022-09-11</td>\n",
       "      <td>Rock in Rio</td>\n",
       "      <td>0.9451</td>\n",
       "    </tr>\n",
       "  </tbody>\n",
       "</table>\n",
       "</div>"
      ],
      "text/plain": [
       "                            ano data_inicial data_final       evento  \\\n",
       "0         18/02 a 21/02 de 2023   2023-02-18 2023-02-21     Carnaval   \n",
       "1  30-31/12 e 01/01 (2022-2023)   2022-12-30 2023-01-01    Reveillon   \n",
       "2         02/09 a 04/09 de 2022   2022-09-02 2022-09-04  Rock in Rio   \n",
       "3         08/09 a 11/09 de 2022   2022-09-08 2022-09-11  Rock in Rio   \n",
       "\n",
       "   taxa_ocupacao  \n",
       "0         0.9554  \n",
       "1         0.9251  \n",
       "2         0.8184  \n",
       "3         0.9451  "
      ]
     },
     "execution_count": 10,
     "metadata": {},
     "output_type": "execute_result"
    }
   ],
   "source": [
    "df_eventos = bd.read_table(\n",
    "    dataset_id='turismo_fluxo_visitantes',\n",
    "    table_id='rede_hoteleira_ocupacao_eventos',\n",
    "    billing_project_id=BILLING_PROJECT_ID,\n",
    "    query_project_id='datario'\n",
    ")\n",
    "df_eventos.head()"
   ]
  },
  {
   "cell_type": "markdown",
   "metadata": {},
   "source": [
    "7. Selecione os chamados com esse subtipo que foram abertos durante os eventos contidos na tabela de eventos (Reveillon, Carnaval e Rock in Rio).\n",
    "\n",
    "Resposta: 18.856 chamados por perturbação do sossego do dia 01/01/2022 ao dia 31/12/2023 (incluindo extremidades), mas apenas nos dias dentro dos intervalos dos eventos."
   ]
  },
  {
   "cell_type": "code",
   "execution_count": 13,
   "metadata": {},
   "outputs": [
    {
     "data": {
      "text/plain": [
       "(0   2023-02-18\n",
       " 1   2022-12-30\n",
       " 2   2022-09-02\n",
       " 3   2022-09-08\n",
       " Name: data_inicial, dtype: datetime64[ns],\n",
       " 0          2023-02-28\n",
       " 1          2023-02-27\n",
       " 2          2023-02-23\n",
       " 3          2023-02-25\n",
       " 4          2023-02-28\n",
       "               ...    \n",
       " 1617593    2022-04-28\n",
       " 1617594    2022-04-10\n",
       " 1617595    2022-04-14\n",
       " 1617596    2022-04-12\n",
       " 1617597    2022-04-19\n",
       " Name: data_inicio_date, Length: 1617598, dtype: object)"
      ]
     },
     "execution_count": 13,
     "metadata": {},
     "output_type": "execute_result"
    }
   ],
   "source": [
    "df_chamado_data = df_chamado_1746\n",
    "# df_chamado_data['data_inicio_date'] = df_chamado_1746['data_inicio'].apply(\n",
    "#     lambda dt: dt.date(), dyype\n",
    "# )\n",
    "df_chamado_data['data_inicio_date'] = df_chamado_1746['data_inicio'].astype({'data_inicio': date})\n",
    "df_eventos['data_inicial'], df_chamado_data['data_inicio_date']"
   ]
  },
  {
   "cell_type": "code",
   "execution_count": 11,
   "metadata": {},
   "outputs": [
    {
     "ename": "TypeError",
     "evalue": "Cannot compare Timestamp with datetime.date. Use ts == pd.Timestamp(date) or ts.date() == date instead.",
     "output_type": "error",
     "traceback": [
      "\u001b[0;31m---------------------------------------------------------------------------\u001b[0m",
      "\u001b[0;31mTypeError\u001b[0m                                 Traceback (most recent call last)",
      "\u001b[1;32m/home/alexandre/Projetos/emd-desafio-junior-data-scientist/analise_pandas.ipynb Cell 21\u001b[0m line \u001b[0;36m9\n\u001b[1;32m      <a href='vscode-notebook-cell:/home/alexandre/Projetos/emd-desafio-junior-data-scientist/analise_pandas.ipynb#X41sZmlsZQ%3D%3D?line=3'>4</a>\u001b[0m df_chamado_data[\u001b[39m'\u001b[39m\u001b[39mdata_inicio_date\u001b[39m\u001b[39m'\u001b[39m] \u001b[39m=\u001b[39m df_chamado_1746[\u001b[39m'\u001b[39m\u001b[39mdata_inicio\u001b[39m\u001b[39m'\u001b[39m]\u001b[39m.\u001b[39mapply(\n\u001b[1;32m      <a href='vscode-notebook-cell:/home/alexandre/Projetos/emd-desafio-junior-data-scientist/analise_pandas.ipynb#X41sZmlsZQ%3D%3D?line=4'>5</a>\u001b[0m     \u001b[39mlambda\u001b[39;00m dt: dt\u001b[39m.\u001b[39mdate()\n\u001b[1;32m      <a href='vscode-notebook-cell:/home/alexandre/Projetos/emd-desafio-junior-data-scientist/analise_pandas.ipynb#X41sZmlsZQ%3D%3D?line=5'>6</a>\u001b[0m )\n\u001b[1;32m      <a href='vscode-notebook-cell:/home/alexandre/Projetos/emd-desafio-junior-data-scientist/analise_pandas.ipynb#X41sZmlsZQ%3D%3D?line=6'>7</a>\u001b[0m \u001b[39mfor\u001b[39;00m index, row \u001b[39min\u001b[39;00m df_eventos[[\u001b[39m'\u001b[39m\u001b[39mdata_inicial\u001b[39m\u001b[39m'\u001b[39m, \u001b[39m'\u001b[39m\u001b[39mdata_final\u001b[39m\u001b[39m'\u001b[39m, \u001b[39m'\u001b[39m\u001b[39mevento\u001b[39m\u001b[39m'\u001b[39m]]\u001b[39m.\u001b[39miterrows():\n\u001b[1;32m      <a href='vscode-notebook-cell:/home/alexandre/Projetos/emd-desafio-junior-data-scientist/analise_pandas.ipynb#X41sZmlsZQ%3D%3D?line=7'>8</a>\u001b[0m     \u001b[39m# dfs_chamado_evento[df_chamado_1746['data_inicio'] >= row['data_inicial'] & df_chamado_1746['data_inicio'] <= row['data_final']]\u001b[39;00m\n\u001b[0;32m----> <a href='vscode-notebook-cell:/home/alexandre/Projetos/emd-desafio-junior-data-scientist/analise_pandas.ipynb#X41sZmlsZQ%3D%3D?line=8'>9</a>\u001b[0m     maior_que_inicio \u001b[39m=\u001b[39m row[\u001b[39m'\u001b[39;49m\u001b[39mdata_inicial\u001b[39;49m\u001b[39m'\u001b[39;49m] \u001b[39m<\u001b[39;49m\u001b[39m=\u001b[39;49m df_chamado_data[\u001b[39m'\u001b[39;49m\u001b[39mdata_inicio_date\u001b[39;49m\u001b[39m'\u001b[39;49m]\n\u001b[1;32m     <a href='vscode-notebook-cell:/home/alexandre/Projetos/emd-desafio-junior-data-scientist/analise_pandas.ipynb#X41sZmlsZQ%3D%3D?line=9'>10</a>\u001b[0m     menor_que_fim \u001b[39m=\u001b[39m df_chamado_data[\u001b[39m'\u001b[39m\u001b[39mdata_inicio_date\u001b[39m\u001b[39m'\u001b[39m] \u001b[39m<\u001b[39m\u001b[39m=\u001b[39m row[\u001b[39m'\u001b[39m\u001b[39mdata_final\u001b[39m\u001b[39m'\u001b[39m]\n\u001b[1;32m     <a href='vscode-notebook-cell:/home/alexandre/Projetos/emd-desafio-junior-data-scientist/analise_pandas.ipynb#X41sZmlsZQ%3D%3D?line=10'>11</a>\u001b[0m     dentro_do_intervalo \u001b[39m=\u001b[39m menor_que_fim \u001b[39m&\u001b[39m maior_que_inicio\n",
      "File \u001b[0;32m~/Projetos/emd-desafio-junior-data-scientist/.venv/lib/python3.11/site-packages/pandas/core/ops/common.py:76\u001b[0m, in \u001b[0;36m_unpack_zerodim_and_defer.<locals>.new_method\u001b[0;34m(self, other)\u001b[0m\n\u001b[1;32m     72\u001b[0m             \u001b[39mreturn\u001b[39;00m \u001b[39mNotImplemented\u001b[39m\n\u001b[1;32m     74\u001b[0m other \u001b[39m=\u001b[39m item_from_zerodim(other)\n\u001b[0;32m---> 76\u001b[0m \u001b[39mreturn\u001b[39;00m method(\u001b[39mself\u001b[39;49m, other)\n",
      "File \u001b[0;32m~/Projetos/emd-desafio-junior-data-scientist/.venv/lib/python3.11/site-packages/pandas/core/arraylike.py:60\u001b[0m, in \u001b[0;36mOpsMixin.__ge__\u001b[0;34m(self, other)\u001b[0m\n\u001b[1;32m     58\u001b[0m \u001b[39m@unpack_zerodim_and_defer\u001b[39m(\u001b[39m\"\u001b[39m\u001b[39m__ge__\u001b[39m\u001b[39m\"\u001b[39m)\n\u001b[1;32m     59\u001b[0m \u001b[39mdef\u001b[39;00m \u001b[39m__ge__\u001b[39m(\u001b[39mself\u001b[39m, other):\n\u001b[0;32m---> 60\u001b[0m     \u001b[39mreturn\u001b[39;00m \u001b[39mself\u001b[39;49m\u001b[39m.\u001b[39;49m_cmp_method(other, operator\u001b[39m.\u001b[39;49mge)\n",
      "File \u001b[0;32m~/Projetos/emd-desafio-junior-data-scientist/.venv/lib/python3.11/site-packages/pandas/core/series.py:6110\u001b[0m, in \u001b[0;36mSeries._cmp_method\u001b[0;34m(self, other, op)\u001b[0m\n\u001b[1;32m   6107\u001b[0m lvalues \u001b[39m=\u001b[39m \u001b[39mself\u001b[39m\u001b[39m.\u001b[39m_values\n\u001b[1;32m   6108\u001b[0m rvalues \u001b[39m=\u001b[39m extract_array(other, extract_numpy\u001b[39m=\u001b[39m\u001b[39mTrue\u001b[39;00m, extract_range\u001b[39m=\u001b[39m\u001b[39mTrue\u001b[39;00m)\n\u001b[0;32m-> 6110\u001b[0m res_values \u001b[39m=\u001b[39m ops\u001b[39m.\u001b[39;49mcomparison_op(lvalues, rvalues, op)\n\u001b[1;32m   6112\u001b[0m \u001b[39mreturn\u001b[39;00m \u001b[39mself\u001b[39m\u001b[39m.\u001b[39m_construct_result(res_values, name\u001b[39m=\u001b[39mres_name)\n",
      "File \u001b[0;32m~/Projetos/emd-desafio-junior-data-scientist/.venv/lib/python3.11/site-packages/pandas/core/ops/array_ops.py:344\u001b[0m, in \u001b[0;36mcomparison_op\u001b[0;34m(left, right, op)\u001b[0m\n\u001b[1;32m    341\u001b[0m     \u001b[39mreturn\u001b[39;00m invalid_comparison(lvalues, rvalues, op)\n\u001b[1;32m    343\u001b[0m \u001b[39melif\u001b[39;00m lvalues\u001b[39m.\u001b[39mdtype \u001b[39m==\u001b[39m \u001b[39mobject\u001b[39m \u001b[39mor\u001b[39;00m \u001b[39misinstance\u001b[39m(rvalues, \u001b[39mstr\u001b[39m):\n\u001b[0;32m--> 344\u001b[0m     res_values \u001b[39m=\u001b[39m comp_method_OBJECT_ARRAY(op, lvalues, rvalues)\n\u001b[1;32m    346\u001b[0m \u001b[39melse\u001b[39;00m:\n\u001b[1;32m    347\u001b[0m     res_values \u001b[39m=\u001b[39m _na_arithmetic_op(lvalues, rvalues, op, is_cmp\u001b[39m=\u001b[39m\u001b[39mTrue\u001b[39;00m)\n",
      "File \u001b[0;32m~/Projetos/emd-desafio-junior-data-scientist/.venv/lib/python3.11/site-packages/pandas/core/ops/array_ops.py:129\u001b[0m, in \u001b[0;36mcomp_method_OBJECT_ARRAY\u001b[0;34m(op, x, y)\u001b[0m\n\u001b[1;32m    127\u001b[0m     result \u001b[39m=\u001b[39m libops\u001b[39m.\u001b[39mvec_compare(x\u001b[39m.\u001b[39mravel(), y\u001b[39m.\u001b[39mravel(), op)\n\u001b[1;32m    128\u001b[0m \u001b[39melse\u001b[39;00m:\n\u001b[0;32m--> 129\u001b[0m     result \u001b[39m=\u001b[39m libops\u001b[39m.\u001b[39;49mscalar_compare(x\u001b[39m.\u001b[39;49mravel(), y, op)\n\u001b[1;32m    130\u001b[0m \u001b[39mreturn\u001b[39;00m result\u001b[39m.\u001b[39mreshape(x\u001b[39m.\u001b[39mshape)\n",
      "File \u001b[0;32mops.pyx:107\u001b[0m, in \u001b[0;36mpandas._libs.ops.scalar_compare\u001b[0;34m()\u001b[0m\n",
      "File \u001b[0;32mtimestamps.pyx:377\u001b[0m, in \u001b[0;36mpandas._libs.tslibs.timestamps._Timestamp.__richcmp__\u001b[0;34m()\u001b[0m\n",
      "\u001b[0;31mTypeError\u001b[0m: Cannot compare Timestamp with datetime.date. Use ts == pd.Timestamp(date) or ts.date() == date instead."
     ]
    }
   ],
   "source": [
    "dfs_chamado_evento = []\n",
    "df_chamado_evento : pd.DataFrame\n",
    "df_chamado_data = df_chamado_1746\n",
    "df_chamado_data['data_inicio_date'] = df_chamado_1746['data_inicio'].apply(\n",
    "    lambda dt: dt.date()\n",
    ")\n",
    "for index, row in df_eventos[['data_inicial', 'data_final', 'evento']].iterrows():\n",
    "    maior_que_inicio = row['data_inicial'] <= df_chamado_data['data_inicio_date']\n",
    "    menor_que_fim = df_chamado_data['data_inicio_date'] <= row['data_final']\n",
    "    dentro_do_intervalo = menor_que_fim & maior_que_inicio\n",
    "    temp_df = df_chamado_data[dentro_do_intervalo]\n",
    "    temp_df['evento'] = row['evento']\n",
    "    dfs_chamado_evento.append(temp_df)\n",
    "df_chamado_evento = pd.concat(dfs_chamado_evento)\n",
    "df_chamado_evento.head()"
   ]
  },
  {
   "cell_type": "code",
   "execution_count": null,
   "metadata": {},
   "outputs": [
    {
     "data": {
      "text/plain": [
       "18856"
      ]
     },
     "execution_count": 75,
     "metadata": {},
     "output_type": "execute_result"
    }
   ],
   "source": [
    "df_chamado_evento.count()['id_chamado']"
   ]
  },
  {
   "cell_type": "markdown",
   "metadata": {},
   "source": [
    "8. Quantos chamados desse subtipo foram abertos em cada evento?\n",
    "\n",
    "Resposta: Rock in Rio (10.446), Carnaval (5.356), Reveillon (3.054)."
   ]
  },
  {
   "cell_type": "code",
   "execution_count": null,
   "metadata": {},
   "outputs": [
    {
     "data": {
      "text/html": [
       "<div>\n",
       "<style scoped>\n",
       "    .dataframe tbody tr th:only-of-type {\n",
       "        vertical-align: middle;\n",
       "    }\n",
       "\n",
       "    .dataframe tbody tr th {\n",
       "        vertical-align: top;\n",
       "    }\n",
       "\n",
       "    .dataframe thead th {\n",
       "        text-align: right;\n",
       "    }\n",
       "</style>\n",
       "<table border=\"1\" class=\"dataframe\">\n",
       "  <thead>\n",
       "    <tr style=\"text-align: right;\">\n",
       "      <th></th>\n",
       "      <th>ocorrências por perturbação do sossego</th>\n",
       "    </tr>\n",
       "    <tr>\n",
       "      <th>evento</th>\n",
       "      <th></th>\n",
       "    </tr>\n",
       "  </thead>\n",
       "  <tbody>\n",
       "    <tr>\n",
       "      <th>Rock in Rio</th>\n",
       "      <td>10446</td>\n",
       "    </tr>\n",
       "    <tr>\n",
       "      <th>Carnaval</th>\n",
       "      <td>5356</td>\n",
       "    </tr>\n",
       "    <tr>\n",
       "      <th>Reveillon</th>\n",
       "      <td>3054</td>\n",
       "    </tr>\n",
       "  </tbody>\n",
       "</table>\n",
       "</div>"
      ],
      "text/plain": [
       "             ocorrências por perturbação do sossego\n",
       "evento                                             \n",
       "Rock in Rio                                   10446\n",
       "Carnaval                                       5356\n",
       "Reveillon                                      3054"
      ]
     },
     "execution_count": 126,
     "metadata": {},
     "output_type": "execute_result"
    }
   ],
   "source": [
    "df_chamado_evento \\\n",
    "    .groupby(['evento']) \\\n",
    "    .count()[['id_chamado']] \\\n",
    "    .sort_values(by='id_chamado', ascending=False) \\\n",
    "    .rename(columns={'id_chamado': 'ocorrências por perturbação do sossego'})"
   ]
  },
  {
   "cell_type": "markdown",
   "metadata": {},
   "source": [
    "9. Qual evento teve a maior média diária de chamados abertos desse subtipo?\n",
    "\n",
    "Resposta: Rock in Rio com média de aproximadamente 1.492 chamados por dia."
   ]
  },
  {
   "cell_type": "code",
   "execution_count": null,
   "metadata": {},
   "outputs": [
    {
     "data": {
      "text/html": [
       "<div>\n",
       "<style scoped>\n",
       "    .dataframe tbody tr th:only-of-type {\n",
       "        vertical-align: middle;\n",
       "    }\n",
       "\n",
       "    .dataframe tbody tr th {\n",
       "        vertical-align: top;\n",
       "    }\n",
       "\n",
       "    .dataframe thead th {\n",
       "        text-align: right;\n",
       "    }\n",
       "</style>\n",
       "<table border=\"1\" class=\"dataframe\">\n",
       "  <thead>\n",
       "    <tr style=\"text-align: right;\">\n",
       "      <th></th>\n",
       "      <th>media_de_ocorrencias_diarias</th>\n",
       "    </tr>\n",
       "    <tr>\n",
       "      <th>evento</th>\n",
       "      <th></th>\n",
       "    </tr>\n",
       "  </thead>\n",
       "  <tbody>\n",
       "    <tr>\n",
       "      <th>Rock in Rio</th>\n",
       "      <td>1492.285714</td>\n",
       "    </tr>\n",
       "    <tr>\n",
       "      <th>Carnaval</th>\n",
       "      <td>1339.000000</td>\n",
       "    </tr>\n",
       "    <tr>\n",
       "      <th>Reveillon</th>\n",
       "      <td>1018.000000</td>\n",
       "    </tr>\n",
       "  </tbody>\n",
       "</table>\n",
       "</div>"
      ],
      "text/plain": [
       "             media_de_ocorrencias_diarias\n",
       "evento                                   \n",
       "Rock in Rio                   1492.285714\n",
       "Carnaval                      1339.000000\n",
       "Reveillon                     1018.000000"
      ]
     },
     "execution_count": 112,
     "metadata": {},
     "output_type": "execute_result"
    }
   ],
   "source": [
    "df_media_ocorrencias_evento = df_chamado_evento \\\n",
    "    .groupby(['evento', 'data_inicio_date'])[['data_inicio_date']] \\\n",
    "    .count() \\\n",
    "    .groupby(['evento']) \\\n",
    "    .mean() \\\n",
    "    .rename(columns={'data_inicio_date': 'media_de_ocorrencias_diarias'}) \\\n",
    "    .sort_values(by='media_de_ocorrencias_diarias', ascending=False)\n",
    "df_media_ocorrencias_evento"
   ]
  },
  {
   "cell_type": "markdown",
   "metadata": {},
   "source": [
    "10. Compare as médias diárias de chamados abertos desse subtipo durante os eventos específicos (Reveillon, Carnaval e Rock in Rio) e a média diária de chamados abertos desse subtipo considerando todo o período de 01/01/2022 até 31/12/2023.\n",
    "\n",
    "Resposta: Carnaval (média de 1339 chamados por dia) e Reveillon (média de 1018 chamados por dia) ficaram abaixo da média de todo o período (aproximadamente 1347 chamados por dia), Rock in Rio (média de aproximadamente 1492) ficou acima."
   ]
  },
  {
   "cell_type": "code",
   "execution_count": null,
   "metadata": {},
   "outputs": [
    {
     "data": {
      "text/html": [
       "<div>\n",
       "<style scoped>\n",
       "    .dataframe tbody tr th:only-of-type {\n",
       "        vertical-align: middle;\n",
       "    }\n",
       "\n",
       "    .dataframe tbody tr th {\n",
       "        vertical-align: top;\n",
       "    }\n",
       "\n",
       "    .dataframe thead th {\n",
       "        text-align: right;\n",
       "    }\n",
       "</style>\n",
       "<table border=\"1\" class=\"dataframe\">\n",
       "  <thead>\n",
       "    <tr style=\"text-align: right;\">\n",
       "      <th></th>\n",
       "      <th>media_de_ocorrencias_diarias</th>\n",
       "    </tr>\n",
       "    <tr>\n",
       "      <th>evento</th>\n",
       "      <th></th>\n",
       "    </tr>\n",
       "  </thead>\n",
       "  <tbody>\n",
       "    <tr>\n",
       "      <th>Rock in Rio</th>\n",
       "      <td>1492.285714</td>\n",
       "    </tr>\n",
       "    <tr>\n",
       "      <th>Média diária no período</th>\n",
       "      <td>1346.857143</td>\n",
       "    </tr>\n",
       "    <tr>\n",
       "      <th>Carnaval</th>\n",
       "      <td>1339.000000</td>\n",
       "    </tr>\n",
       "    <tr>\n",
       "      <th>Reveillon</th>\n",
       "      <td>1018.000000</td>\n",
       "    </tr>\n",
       "  </tbody>\n",
       "</table>\n",
       "</div>"
      ],
      "text/plain": [
       "                         media_de_ocorrencias_diarias\n",
       "evento                                               \n",
       "Rock in Rio                               1492.285714\n",
       "Média diária no período                   1346.857143\n",
       "Carnaval                                  1339.000000\n",
       "Reveillon                                 1018.000000"
      ]
     },
     "execution_count": 120,
     "metadata": {},
     "output_type": "execute_result"
    }
   ],
   "source": [
    "s_media_ocorrencias_periodo = df_chamado_evento \\\n",
    "    .groupby(['data_inicio_date'])[['data_inicio_date']] \\\n",
    "    .count() \\\n",
    "    .rename(columns={'data_inicio_date': 'ocorrencias_diarias'}) \\\n",
    "    .mean() \\\n",
    "    .rename({'ocorrencias_diarias': 'media_de_ocorrencias_diarias'})\n",
    "s_media_ocorrencias_periodo.name = 'Média diária no período'\n",
    "df_media_ocorrencias_evento \\\n",
    "    .append(s_media_ocorrencias_periodo) \\\n",
    "    .sort_values(by='media_de_ocorrencias_diarias', ascending=False)"
   ]
  }
 ],
 "metadata": {
  "kernelspec": {
   "display_name": ".venv",
   "language": "python",
   "name": "python3"
  },
  "language_info": {
   "codemirror_mode": {
    "name": "ipython",
    "version": 3
   },
   "file_extension": ".py",
   "mimetype": "text/x-python",
   "name": "python",
   "nbconvert_exporter": "python",
   "pygments_lexer": "ipython3",
   "version": "3.11.7"
  }
 },
 "nbformat": 4,
 "nbformat_minor": 2
}
